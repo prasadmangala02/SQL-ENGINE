{
 "cells": [
  {
   "cell_type": "code",
   "execution_count": 2,
   "metadata": {},
   "outputs": [
    {
     "name": "stdout",
     "output_type": "stream",
     "text": [
      "['select', 'attr1,attr2', 'from', 'student.csv', 'where', 'condition1,condition2']\n",
      "[(0, 'select'), (1, 'attr1,attr2'), (2, 'from'), (3, 'student.csv'), (4, 'where'), (5, 'condition1,condition2')]\n",
      "[0]\n",
      "atts ['attr1,attr2']\n",
      "tables ['student.csv']\n",
      "conds ['condition1,condition2']\n"
     ]
    }
   ],
   "source": [
    "# Function to split the query into tokens\n",
    "# in the form of a list\n",
    "def split_query(q):\n",
    "    tokens = q.lower().split()\n",
    "    print(tokens)\n",
    "\n",
    "    select_indices = []\n",
    "    from_indices = []\n",
    "    where_indices = []\n",
    "\n",
    "\n",
    "    if(tokens[0] != 'select'):\n",
    "        print(\"First word should be SELECT\")\n",
    "\n",
    "    print(list(enumerate(tokens)))\n",
    "    # Check if the query is valid\n",
    "    for indx, tkns in enumerate(tokens):\n",
    "        if tkns == \"select\":\n",
    "            select_indices.append(indx)\n",
    "    \n",
    "    print(select_indices)\n",
    "\n",
    "    for indx, tkns in enumerate(tokens):\n",
    "        if tkns == \"from\":\n",
    "            from_indices.append(indx)\n",
    "            # print(from_indices)\n",
    "\n",
    "    for indx, tkns in enumerate(tokens):\n",
    "        if tkns == \"where\":\n",
    "            where_indices.append(indx)\n",
    "            # print(where_indices)\n",
    "\n",
    "    if((len(select_indices)!=1) or (len(from_indices) != 1) or (len(where_indices) != 1)):\n",
    "        print(\"Invalid Query\")\n",
    "    \n",
    "    select_idx, from_idx = select_indices[0], from_indices[0]\n",
    "    if len(where_indices) == 1:\n",
    "        where_idx = where_indices[0]\n",
    "    else: where_idx = None\n",
    "\n",
    "    if(from_idx < select_idx or where_idx < from_idx or where_idx < select_idx):\n",
    "        print(\"Invalid Query\")\n",
    "        \n",
    "    req_attributes = tokens[select_idx + 1 : from_idx]\n",
    "    \n",
    "    if(where_idx):\n",
    "        req_tables = tokens[from_idx+1 : where_idx]\n",
    "        req_conditions = tokens[where_idx+1 : ]\n",
    "    else:\n",
    "        req_tables = tokens[from_idx+1 : ]\n",
    "        req_conditions = []\n",
    "    print(\"atts\", req_attributes)\n",
    "    print(\"tables\", req_tables)\n",
    "    print(\"conds\", req_conditions)\n",
    "\n",
    "\n",
    "\n",
    "\n",
    "query = \"SELECT attr1,attr2 FROM student.csv WHERE condition1,condition2\"\n",
    "split_query(query)\n"
   ]
  }
 ],
 "metadata": {
  "kernelspec": {
   "display_name": "Python 3",
   "language": "python",
   "name": "python3"
  },
  "language_info": {
   "codemirror_mode": {
    "name": "ipython",
    "version": 3
   },
   "file_extension": ".py",
   "mimetype": "text/x-python",
   "name": "python",
   "nbconvert_exporter": "python",
   "pygments_lexer": "ipython3",
   "version": "3.8.10 (default, Nov 14 2022, 12:59:47) \n[GCC 9.4.0]"
  },
  "orig_nbformat": 4,
  "vscode": {
   "interpreter": {
    "hash": "916dbcbb3f70747c44a77c7bcd40155683ae19c65e1c03b4aa3499c5328201f1"
   }
  }
 },
 "nbformat": 4,
 "nbformat_minor": 2
}
